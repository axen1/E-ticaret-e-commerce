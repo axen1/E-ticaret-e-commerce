{
  "nbformat": 4,
  "nbformat_minor": 0,
  "metadata": {
    "colab": {
      "provenance": [],
      "include_colab_link": true
    },
    "kernelspec": {
      "name": "python3",
      "display_name": "Python 3"
    },
    "language_info": {
      "name": "python"
    }
  },
  "cells": [
    {
      "cell_type": "markdown",
      "metadata": {
        "id": "view-in-github",
        "colab_type": "text"
      },
      "source": [
        "<a href=\"https://colab.research.google.com/github/axen1/E-ticaret-e-commerce/blob/master/YouTube_Video_Summarizer.ipynb\" target=\"_parent\"><img src=\"https://colab.research.google.com/assets/colab-badge.svg\" alt=\"Open In Colab\"/></a>"
      ]
    },
    {
      "cell_type": "code",
      "source": [
        "# First, install required packages\n",
        "!pip install -q youtube-transcript-api transformers torch gradio\n",
        "\n",
        "import gradio as gr\n",
        "from youtube_transcript_api import YouTubeTranscriptApi\n",
        "from transformers import pipeline\n",
        "import re\n",
        "\n",
        "def get_video_id(url):\n",
        "    \"\"\"Extract video ID from various YouTube URL formats\"\"\"\n",
        "    patterns = [\n",
        "        r'(?:v=|\\/)([0-9A-Za-z_-]{11}).*',\n",
        "        r'(?:embed\\/)([0-9A-Za-z_-]{11})',\n",
        "        r'(?:youtu.be\\/)([0-9A-Za-z_-]{11})'\n",
        "    ]\n",
        "\n",
        "    for pattern in patterns:\n",
        "        match = re.search(pattern, url)\n",
        "        if match:\n",
        "            return match.group(1)\n",
        "    return None\n",
        "\n",
        "def summarize_video(url, progress=gr.Progress()):\n",
        "    try:\n",
        "        # Initialize the summarizer\n",
        "        progress(0.1, desc=\"Loading summarization model...\")\n",
        "        summarizer = pipeline(\"summarization\", model=\"facebook/bart-large-cnn\")\n",
        "\n",
        "        # Get video ID\n",
        "        video_id = get_video_id(url)\n",
        "        if not video_id:\n",
        "            return \"Error: Invalid YouTube URL. Please check the URL and try again.\"\n",
        "\n",
        "        # Get transcript\n",
        "        progress(0.3, desc=\"Fetching video transcript...\")\n",
        "        try:\n",
        "            transcript = YouTubeTranscriptApi.get_transcript(video_id)\n",
        "            text = \" \".join([t[\"text\"] for t in transcript])\n",
        "        except Exception as e:\n",
        "            return f\"Error: Could not fetch video transcript. Make sure the video has English subtitles enabled. Error details: {str(e)}\"\n",
        "\n",
        "        # Clean transcript\n",
        "        progress(0.4, desc=\"Processing transcript...\")\n",
        "        text = re.sub(r'\\[.*?\\]', '', text)\n",
        "        text = re.sub(r'\\n', ' ', text)\n",
        "        text = ' '.join(text.split())\n",
        "\n",
        "        # Split into chunks (BART has a max input length)\n",
        "        max_chunk = 1000\n",
        "        chunks = [text[i:i + max_chunk] for i in range(0, len(text), max_chunk)]\n",
        "\n",
        "        # Summarize each chunk\n",
        "        progress(0.6, desc=\"Generating summary...\")\n",
        "        summaries = []\n",
        "        for i, chunk in enumerate(chunks):\n",
        "            summary = summarizer(chunk, max_length=150, min_length=40, do_sample=False)\n",
        "            summaries.append(summary[0]['summary_text'])\n",
        "            progress(0.6 + (0.3 * (i + 1) / len(chunks)))\n",
        "\n",
        "        # Combine summaries\n",
        "        final_summary = \" \".join(summaries)\n",
        "\n",
        "        # Extract key points (sentences)\n",
        "        sentences = [s.strip() for s in final_summary.split('.') if s.strip()]\n",
        "        key_points = sentences[:5]  # Take up to 5 key points\n",
        "\n",
        "        # Format output\n",
        "        progress(0.9, desc=\"Formatting output...\")\n",
        "        output = f\"\"\"# Video Summary\n",
        "\n",
        "## Executive Summary\n",
        "{final_summary}\n",
        "\n",
        "## Key Points\n",
        "\"\"\"\n",
        "        for i, point in enumerate(key_points, 1):\n",
        "            output += f\"{i}. {point}.\\n\"\n",
        "\n",
        "        output += f\"\"\"\n",
        "## Conclusion\n",
        "{sentences[-1] if sentences else 'No conclusion available.'}\"\"\"\n",
        "\n",
        "        progress(1.0, desc=\"Done!\")\n",
        "        return output\n",
        "\n",
        "    except Exception as e:\n",
        "        return f\"An error occurred: {str(e)}\\nPlease try again with a different video.\"\n",
        "\n",
        "# Create and launch the interface\n",
        "iface = gr.Interface(\n",
        "    fn=summarize_video,\n",
        "    inputs=gr.Textbox(\n",
        "        label=\"YouTube URL\",\n",
        "        placeholder=\"Paste YouTube URL here...\",\n",
        "        info=\"Note: Video must have English subtitles/captions available\"\n",
        "    ),\n",
        "    outputs=gr.Markdown(label=\"Summary\"),\n",
        "    title=\"YouTube Video Summarizer\",\n",
        "    description=\"Get a quick summary of any YouTube video with English subtitles.\",\n",
        "    examples=[\n",
        "        [\"https://www.youtube.com/watch?v=SZnyZONfIZ8\"]\n",
        "    ],\n",
        "    theme=gr.themes.Soft()\n",
        ")\n",
        "\n",
        "iface.launch(share=True, debug=True)"
      ],
      "metadata": {
        "colab": {
          "base_uri": "https://localhost:8080/",
          "height": 698
        },
        "id": "hPfdMxhmh60v",
        "outputId": "17edb1b2-bac6-4398-d1da-1781761ca250"
      },
      "execution_count": null,
      "outputs": [
        {
          "output_type": "stream",
          "name": "stdout",
          "text": [
            "Colab notebook detected. This cell will run indefinitely so that you can see errors and logs. To turn off, set debug=False in launch().\n",
            "* Running on public URL: https://d432cda05465ce34eb.gradio.live\n",
            "\n",
            "This share link expires in 72 hours. For free permanent hosting and GPU upgrades, run `gradio deploy` from the terminal in the working directory to deploy to Hugging Face Spaces (https://huggingface.co/spaces)\n"
          ]
        },
        {
          "output_type": "display_data",
          "data": {
            "text/plain": [
              "<IPython.core.display.HTML object>"
            ],
            "text/html": [
              "<div><iframe src=\"https://d432cda05465ce34eb.gradio.live\" width=\"100%\" height=\"500\" allow=\"autoplay; camera; microphone; clipboard-read; clipboard-write;\" frameborder=\"0\" allowfullscreen></iframe></div>"
            ]
          },
          "metadata": {}
        },
        {
          "output_type": "stream",
          "name": "stderr",
          "text": [
            "Your max_length is set to 130, but your input_length is only 106. Since this is a summarization task, where outputs shorter than the input are typically wanted, you might consider decreasing max_length manually, e.g. summarizer('...', max_length=53)\n",
            "Your max_length is set to 150, but your input_length is only 99. Since this is a summarization task, where outputs shorter than the input are typically wanted, you might consider decreasing max_length manually, e.g. summarizer('...', max_length=49)\n"
          ]
        },
        {
          "output_type": "stream",
          "name": "stdout",
          "text": [
            "Keyboard interruption in main thread... closing server.\n",
            "Killing tunnel 127.0.0.1:7860 <> https://ce4dc8c625532e719d.gradio.live\n",
            "Killing tunnel 127.0.0.1:7861 <> https://d432cda05465ce34eb.gradio.live\n"
          ]
        },
        {
          "output_type": "execute_result",
          "data": {
            "text/plain": []
          },
          "metadata": {},
          "execution_count": 4
        }
      ]
    },
    {
      "cell_type": "code",
      "source": [],
      "metadata": {
        "id": "qN5Gm2fmic4z"
      },
      "execution_count": null,
      "outputs": []
    }
  ]
}